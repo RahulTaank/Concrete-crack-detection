{
 "cells": [
  {
   "cell_type": "markdown",
   "metadata": {},
   "source": [
    "Name: Rahul"
   ]
  },
  {
   "cell_type": "markdown",
   "metadata": {},
   "source": [
    "Roll number: 22103045"
   ]
  },
  {
   "cell_type": "markdown",
   "metadata": {},
   "source": [
    "Kaggle ID : rahultaank"
   ]
  },
  {
   "cell_type": "markdown",
   "metadata": {},
   "source": [
    "# **ASSIGNMENT 2**"
   ]
  },
  {
   "cell_type": "markdown",
   "metadata": {},
   "source": [
    "# CRACK DETECTION IMAGE CLASSIFICATION USING CNN MODEL"
   ]
  },
  {
   "cell_type": "markdown",
   "metadata": {},
   "source": [
    "# importing libraries"
   ]
  },
  {
   "cell_type": "code",
   "execution_count": 21,
   "metadata": {},
   "outputs": [],
   "source": [
    "#  !pip install tensorflow\n",
    "\n"
   ]
  },
  {
   "cell_type": "code",
   "execution_count": 17,
   "metadata": {
    "execution": {
     "iopub.execute_input": "2023-04-16T16:34:33.696984Z",
     "iopub.status.busy": "2023-04-16T16:34:33.696239Z",
     "iopub.status.idle": "2023-04-16T16:34:33.704537Z",
     "shell.execute_reply": "2023-04-16T16:34:33.703400Z",
     "shell.execute_reply.started": "2023-04-16T16:34:33.696945Z"
    }
   },
   "outputs": [
    {
     "ename": "TypeError",
     "evalue": "Unable to convert function return value to a Python type! The signature was\n\t() -> handle",
     "output_type": "error",
     "traceback": [
      "\u001b[1;31m---------------------------------------------------------------------------\u001b[0m",
      "\u001b[1;31mTypeError\u001b[0m                                 Traceback (most recent call last)",
      "\u001b[1;32m~\\AppData\\Local\\Temp\\ipykernel_4656\\1276077957.py\u001b[0m in \u001b[0;36m<module>\u001b[1;34m\u001b[0m\n\u001b[0;32m     10\u001b[0m \u001b[1;32mfrom\u001b[0m \u001b[0msklearn\u001b[0m\u001b[1;33m.\u001b[0m\u001b[0mmetrics\u001b[0m \u001b[1;32mimport\u001b[0m \u001b[0mauc\u001b[0m\u001b[1;33m\u001b[0m\u001b[1;33m\u001b[0m\u001b[0m\n\u001b[0;32m     11\u001b[0m \u001b[1;32mfrom\u001b[0m \u001b[0msklearn\u001b[0m\u001b[1;33m.\u001b[0m\u001b[0mmetrics\u001b[0m \u001b[1;32mimport\u001b[0m \u001b[0mroc_curve\u001b[0m\u001b[1;33m\u001b[0m\u001b[1;33m\u001b[0m\u001b[0m\n\u001b[1;32m---> 12\u001b[1;33m \u001b[1;32mimport\u001b[0m \u001b[0mtensorflow\u001b[0m \u001b[1;32mas\u001b[0m \u001b[0mtf\u001b[0m\u001b[1;33m\u001b[0m\u001b[1;33m\u001b[0m\u001b[0m\n\u001b[0m\u001b[0;32m     13\u001b[0m \u001b[1;33m\u001b[0m\u001b[0m\n\u001b[0;32m     14\u001b[0m \u001b[1;31m# from sklearn.metrics import confusion_matrix, classification_report\u001b[0m\u001b[1;33m\u001b[0m\u001b[1;33m\u001b[0m\u001b[0m\n",
      "\u001b[1;32mK:\\ada\\lib\\site-packages\\tensorflow\\__init__.py\u001b[0m in \u001b[0;36m<module>\u001b[1;34m\u001b[0m\n\u001b[0;32m     36\u001b[0m \u001b[1;32mimport\u001b[0m \u001b[0mtyping\u001b[0m \u001b[1;32mas\u001b[0m \u001b[0m_typing\u001b[0m\u001b[1;33m\u001b[0m\u001b[1;33m\u001b[0m\u001b[0m\n\u001b[0;32m     37\u001b[0m \u001b[1;33m\u001b[0m\u001b[0m\n\u001b[1;32m---> 38\u001b[1;33m \u001b[1;32mfrom\u001b[0m \u001b[0mtensorflow\u001b[0m\u001b[1;33m.\u001b[0m\u001b[0mpython\u001b[0m\u001b[1;33m.\u001b[0m\u001b[0mtools\u001b[0m \u001b[1;32mimport\u001b[0m \u001b[0mmodule_util\u001b[0m \u001b[1;32mas\u001b[0m \u001b[0m_module_util\u001b[0m\u001b[1;33m\u001b[0m\u001b[1;33m\u001b[0m\u001b[0m\n\u001b[0m\u001b[0;32m     39\u001b[0m \u001b[1;32mfrom\u001b[0m \u001b[0mtensorflow\u001b[0m\u001b[1;33m.\u001b[0m\u001b[0mpython\u001b[0m\u001b[1;33m.\u001b[0m\u001b[0mutil\u001b[0m\u001b[1;33m.\u001b[0m\u001b[0mlazy_loader\u001b[0m \u001b[1;32mimport\u001b[0m \u001b[0mLazyLoader\u001b[0m \u001b[1;32mas\u001b[0m \u001b[0m_LazyLoader\u001b[0m\u001b[1;33m\u001b[0m\u001b[1;33m\u001b[0m\u001b[0m\n\u001b[0;32m     40\u001b[0m \u001b[1;33m\u001b[0m\u001b[0m\n",
      "\u001b[1;32mK:\\ada\\lib\\site-packages\\tensorflow\\python\\__init__.py\u001b[0m in \u001b[0;36m<module>\u001b[1;34m\u001b[0m\n\u001b[0;32m     35\u001b[0m \u001b[1;33m\u001b[0m\u001b[0m\n\u001b[0;32m     36\u001b[0m \u001b[1;32mfrom\u001b[0m \u001b[0mtensorflow\u001b[0m\u001b[1;33m.\u001b[0m\u001b[0mpython\u001b[0m \u001b[1;32mimport\u001b[0m \u001b[0mpywrap_tensorflow\u001b[0m \u001b[1;32mas\u001b[0m \u001b[0m_pywrap_tensorflow\u001b[0m\u001b[1;33m\u001b[0m\u001b[1;33m\u001b[0m\u001b[0m\n\u001b[1;32m---> 37\u001b[1;33m \u001b[1;32mfrom\u001b[0m \u001b[0mtensorflow\u001b[0m\u001b[1;33m.\u001b[0m\u001b[0mpython\u001b[0m\u001b[1;33m.\u001b[0m\u001b[0meager\u001b[0m \u001b[1;32mimport\u001b[0m \u001b[0mcontext\u001b[0m\u001b[1;33m\u001b[0m\u001b[1;33m\u001b[0m\u001b[0m\n\u001b[0m\u001b[0;32m     38\u001b[0m \u001b[1;33m\u001b[0m\u001b[0m\n\u001b[0;32m     39\u001b[0m \u001b[1;31m# pylint: enable=wildcard-import\u001b[0m\u001b[1;33m\u001b[0m\u001b[1;33m\u001b[0m\u001b[0m\n",
      "\u001b[1;32mK:\\ada\\lib\\site-packages\\tensorflow\\python\\eager\\context.py\u001b[0m in \u001b[0;36m<module>\u001b[1;34m\u001b[0m\n\u001b[0;32m     34\u001b[0m \u001b[1;32mfrom\u001b[0m \u001b[0mtensorflow\u001b[0m\u001b[1;33m.\u001b[0m\u001b[0mpython\u001b[0m\u001b[1;33m.\u001b[0m\u001b[0mclient\u001b[0m \u001b[1;32mimport\u001b[0m \u001b[0mpywrap_tf_session\u001b[0m\u001b[1;33m\u001b[0m\u001b[1;33m\u001b[0m\u001b[0m\n\u001b[0;32m     35\u001b[0m \u001b[1;32mfrom\u001b[0m \u001b[0mtensorflow\u001b[0m\u001b[1;33m.\u001b[0m\u001b[0mpython\u001b[0m\u001b[1;33m.\u001b[0m\u001b[0meager\u001b[0m \u001b[1;32mimport\u001b[0m \u001b[0mcancellation\u001b[0m\u001b[1;33m\u001b[0m\u001b[1;33m\u001b[0m\u001b[0m\n\u001b[1;32m---> 36\u001b[1;33m \u001b[1;32mfrom\u001b[0m \u001b[0mtensorflow\u001b[0m\u001b[1;33m.\u001b[0m\u001b[0mpython\u001b[0m\u001b[1;33m.\u001b[0m\u001b[0meager\u001b[0m \u001b[1;32mimport\u001b[0m \u001b[0mexecute\u001b[0m\u001b[1;33m\u001b[0m\u001b[1;33m\u001b[0m\u001b[0m\n\u001b[0m\u001b[0;32m     37\u001b[0m \u001b[1;32mfrom\u001b[0m \u001b[0mtensorflow\u001b[0m\u001b[1;33m.\u001b[0m\u001b[0mpython\u001b[0m\u001b[1;33m.\u001b[0m\u001b[0meager\u001b[0m \u001b[1;32mimport\u001b[0m \u001b[0mexecutor\u001b[0m\u001b[1;33m\u001b[0m\u001b[1;33m\u001b[0m\u001b[0m\n\u001b[0;32m     38\u001b[0m \u001b[1;32mfrom\u001b[0m \u001b[0mtensorflow\u001b[0m\u001b[1;33m.\u001b[0m\u001b[0mpython\u001b[0m\u001b[1;33m.\u001b[0m\u001b[0meager\u001b[0m \u001b[1;32mimport\u001b[0m \u001b[0mmonitoring\u001b[0m\u001b[1;33m\u001b[0m\u001b[1;33m\u001b[0m\u001b[0m\n",
      "\u001b[1;32mK:\\ada\\lib\\site-packages\\tensorflow\\python\\eager\\execute.py\u001b[0m in \u001b[0;36m<module>\u001b[1;34m\u001b[0m\n\u001b[0;32m     19\u001b[0m \u001b[1;32mfrom\u001b[0m \u001b[0mtensorflow\u001b[0m\u001b[1;33m.\u001b[0m\u001b[0mpython\u001b[0m \u001b[1;32mimport\u001b[0m \u001b[0mpywrap_tfe\u001b[0m\u001b[1;33m\u001b[0m\u001b[1;33m\u001b[0m\u001b[0m\n\u001b[0;32m     20\u001b[0m \u001b[1;32mfrom\u001b[0m \u001b[0mtensorflow\u001b[0m\u001b[1;33m.\u001b[0m\u001b[0mpython\u001b[0m\u001b[1;33m.\u001b[0m\u001b[0meager\u001b[0m \u001b[1;32mimport\u001b[0m \u001b[0mcore\u001b[0m\u001b[1;33m\u001b[0m\u001b[1;33m\u001b[0m\u001b[0m\n\u001b[1;32m---> 21\u001b[1;33m \u001b[1;32mfrom\u001b[0m \u001b[0mtensorflow\u001b[0m\u001b[1;33m.\u001b[0m\u001b[0mpython\u001b[0m\u001b[1;33m.\u001b[0m\u001b[0mframework\u001b[0m \u001b[1;32mimport\u001b[0m \u001b[0mdtypes\u001b[0m\u001b[1;33m\u001b[0m\u001b[1;33m\u001b[0m\u001b[0m\n\u001b[0m\u001b[0;32m     22\u001b[0m \u001b[1;32mfrom\u001b[0m \u001b[0mtensorflow\u001b[0m\u001b[1;33m.\u001b[0m\u001b[0mpython\u001b[0m\u001b[1;33m.\u001b[0m\u001b[0mframework\u001b[0m \u001b[1;32mimport\u001b[0m \u001b[0mtensor_conversion_registry\u001b[0m\u001b[1;33m\u001b[0m\u001b[1;33m\u001b[0m\u001b[0m\n\u001b[0;32m     23\u001b[0m \u001b[1;32mfrom\u001b[0m \u001b[0mtensorflow\u001b[0m\u001b[1;33m.\u001b[0m\u001b[0mpython\u001b[0m\u001b[1;33m.\u001b[0m\u001b[0mframework\u001b[0m \u001b[1;32mimport\u001b[0m \u001b[0mtensor_shape\u001b[0m\u001b[1;33m\u001b[0m\u001b[1;33m\u001b[0m\u001b[0m\n",
      "\u001b[1;32mK:\\ada\\lib\\site-packages\\tensorflow\\python\\framework\\dtypes.py\u001b[0m in \u001b[0;36m<module>\u001b[1;34m\u001b[0m\n\u001b[0;32m     36\u001b[0m \u001b[1;32mfrom\u001b[0m \u001b[0mtensorflow\u001b[0m\u001b[1;33m.\u001b[0m\u001b[0mpython\u001b[0m\u001b[1;33m.\u001b[0m\u001b[0mframework\u001b[0m \u001b[1;32mimport\u001b[0m \u001b[0mcpp_shape_inference_pb2\u001b[0m\u001b[1;33m\u001b[0m\u001b[1;33m\u001b[0m\u001b[0m\n\u001b[0;32m     37\u001b[0m \u001b[1;33m\u001b[0m\u001b[0m\n\u001b[1;32m---> 38\u001b[1;33m \u001b[0m_np_bfloat16\u001b[0m \u001b[1;33m=\u001b[0m \u001b[0mpywrap_bfloat16\u001b[0m\u001b[1;33m.\u001b[0m\u001b[0mbfloat16_type\u001b[0m\u001b[1;33m(\u001b[0m\u001b[1;33m)\u001b[0m\u001b[1;33m\u001b[0m\u001b[1;33m\u001b[0m\u001b[0m\n\u001b[0m\u001b[0;32m     39\u001b[0m \u001b[0m_np_float8_e4m3fn\u001b[0m \u001b[1;33m=\u001b[0m \u001b[0m_pywrap_float8\u001b[0m\u001b[1;33m.\u001b[0m\u001b[0mTF_float8_e4m3fn_type\u001b[0m\u001b[1;33m(\u001b[0m\u001b[1;33m)\u001b[0m\u001b[1;33m\u001b[0m\u001b[1;33m\u001b[0m\u001b[0m\n\u001b[0;32m     40\u001b[0m \u001b[0m_np_float8_e5m2\u001b[0m \u001b[1;33m=\u001b[0m \u001b[0m_pywrap_float8\u001b[0m\u001b[1;33m.\u001b[0m\u001b[0mTF_float8_e5m2_type\u001b[0m\u001b[1;33m(\u001b[0m\u001b[1;33m)\u001b[0m\u001b[1;33m\u001b[0m\u001b[1;33m\u001b[0m\u001b[0m\n",
      "\u001b[1;31mTypeError\u001b[0m: Unable to convert function return value to a Python type! The signature was\n\t() -> handle"
     ]
    }
   ],
   "source": [
    "import numpy as np\n",
    "import pandas as pd\n",
    "\n",
    "import matplotlib.pyplot as plt\n",
    "import seaborn as sns\n",
    "import plotly.express as px\n",
    "\n",
    "from pathlib import Path\n",
    "from sklearn.model_selection import train_test_split\n",
    "from sklearn.metrics import auc\n",
    "from sklearn.metrics import roc_curve\n",
    "import tensorflow as tf\n",
    "\n",
    "from sklearn.metrics import confusion_matrix, classification_report\n",
    "import os\n",
    "import cv2\n",
    "from tensorflow.keras.layers import Input, Lambda, Dense, Flatten\n",
    "from tensorflow.keras.models import Model\n",
    "from tensorflow.keras.applications.inception_v3 import InceptionV3\n",
    "from tensorflow.keras.applications.inception_v3 import preprocess_input\n",
    "from tensorflow.keras.preprocessing import image\n",
    "from tensorflow.keras.preprocessing.image import ImageDataGenerator,load_img\n",
    "from tensorflow.keras.models import Sequential\n",
    "\n",
    "from glob import glob\n"
   ]
  },
  {
   "cell_type": "markdown",
   "metadata": {},
   "source": [
    "# TRAINING IMAGE PATHFILE"
   ]
  },
  {
   "cell_type": "code",
   "execution_count": null,
   "metadata": {
    "execution": {
     "iopub.execute_input": "2023-04-16T16:34:36.261625Z",
     "iopub.status.busy": "2023-04-16T16:34:36.260920Z",
     "iopub.status.idle": "2023-04-16T16:34:36.266734Z",
     "shell.execute_reply": "2023-04-16T16:34:36.265631Z",
     "shell.execute_reply.started": "2023-04-16T16:34:36.261585Z"
    }
   },
   "outputs": [],
   "source": [
    "cracked_dir = r'K:\\IITK\\SEMESTER 2\\MACHINE LEARNING\\ASSIGNMENT 2\\train\\cracked'\n",
    "uncracked_dir = r'K:\\IITK\\SEMESTER 2\\MACHINE LEARNING\\ASSIGNMENT 2\\train\\uncracked'"
   ]
  },
  {
   "cell_type": "markdown",
   "metadata": {},
   "source": [
    "# DATAFRAMES"
   ]
  },
  {
   "cell_type": "markdown",
   "metadata": {},
   "source": []
  },
  {
   "cell_type": "code",
   "execution_count": null,
   "metadata": {
    "execution": {
     "iopub.execute_input": "2023-04-16T16:34:38.920770Z",
     "iopub.status.busy": "2023-04-16T16:34:38.919746Z",
     "iopub.status.idle": "2023-04-16T16:34:38.927299Z",
     "shell.execute_reply": "2023-04-16T16:34:38.926117Z",
     "shell.execute_reply.started": "2023-04-16T16:34:38.920718Z"
    }
   },
   "outputs": [],
   "source": [
    "def generate_df(image_dir, label):\n",
    "    filepaths = pd.Series(list(image_dir.glob(r'*.jpg')), name='Filepath').astype(str)\n",
    "    labels = pd.Series(label, name='Label', index=filepaths.index)\n",
    "    df = pd.concat([filepaths, labels], axis=1)\n",
    "    return df"
   ]
  },
  {
   "cell_type": "code",
   "execution_count": null,
   "metadata": {
    "execution": {
     "iopub.execute_input": "2023-04-16T16:35:26.993099Z",
     "iopub.status.busy": "2023-04-16T16:35:26.992732Z",
     "iopub.status.idle": "2023-04-16T16:35:27.726103Z",
     "shell.execute_reply": "2023-04-16T16:35:27.725095Z",
     "shell.execute_reply.started": "2023-04-16T16:35:26.993064Z"
    }
   },
   "outputs": [],
   "source": [
    "cracked_df = generate_df(cracked_dir, label=\"cracked\")\n",
    "uncracked_df = generate_df(uncracked_dir, label=\"uncracked\")\n",
    "\n",
    "all_df = pd.concat([cracked_df, uncracked_df], axis=0).sample(frac=1.0, random_state=1).reset_index(drop=True)\n",
    "all_df"
   ]
  },
  {
   "cell_type": "code",
   "execution_count": null,
   "metadata": {},
   "outputs": [],
   "source": [
    "from pathlib import Path\n",
    "\n",
    "def generate_df(image_dir, label):\n",
    "    image_dir_path = Path(image_dir)  # Convert the image_dir string to a Path object\n",
    "    filepaths = pd.Series(list(image_dir_path.glob('*.jpg')), name='Filepath').astype(str)\n",
    "    labels = pd.Series(label, name='Label', index=filepaths.index)\n",
    "    df = pd.concat([filepaths, labels], axis=1)\n",
    "    return df\n",
    "\n",
    "# Assuming cracked_dir and uncracked_dir are your image directory paths as strings\n",
    "cracked_df = generate_df(cracked_dir, label=\"cracked\")\n",
    "uncracked_df = generate_df(uncracked_dir, label=\"uncracked\")\n",
    "\n",
    "all_df = pd.concat([cracked_df, uncracked_df], axis=0).sample(frac=1.0, random_state=1).reset_index(drop=True)\n",
    "all_df\n"
   ]
  },
  {
   "cell_type": "markdown",
   "metadata": {},
   "source": [
    "# Pie chart representing percentage of data classification"
   ]
  },
  {
   "cell_type": "code",
   "execution_count": null,
   "metadata": {
    "execution": {
     "iopub.execute_input": "2023-04-16T17:58:25.318556Z",
     "iopub.status.busy": "2023-04-16T17:58:25.318176Z",
     "iopub.status.idle": "2023-04-16T17:58:25.437422Z",
     "shell.execute_reply": "2023-04-16T17:58:25.436040Z",
     "shell.execute_reply.started": "2023-04-16T17:58:25.318524Z"
    }
   },
   "outputs": [],
   "source": [
    "freq = all_df['Label'].value_counts()\n",
    "print(freq)\n",
    "freq.plot(kind='pie', figsize=(3,3), title='Cracks', autopct='%1.2f%%',  shadow = False)"
   ]
  },
  {
   "cell_type": "code",
   "execution_count": null,
   "metadata": {
    "execution": {
     "iopub.execute_input": "2023-04-16T16:35:30.524657Z",
     "iopub.status.busy": "2023-04-16T16:35:30.523951Z",
     "iopub.status.idle": "2023-04-16T16:35:30.536621Z",
     "shell.execute_reply": "2023-04-16T16:35:30.535491Z",
     "shell.execute_reply.started": "2023-04-16T16:35:30.524617Z"
    }
   },
   "outputs": [],
   "source": [
    "train_df, test_df = train_test_split(all_df.sample(14968, random_state=1),train_size=0.9,shuffle=True,random_state=1)"
   ]
  },
  {
   "cell_type": "code",
   "execution_count": null,
   "metadata": {
    "execution": {
     "iopub.execute_input": "2023-04-16T16:35:54.637308Z",
     "iopub.status.busy": "2023-04-16T16:35:54.636607Z",
     "iopub.status.idle": "2023-04-16T16:35:54.649427Z",
     "shell.execute_reply": "2023-04-16T16:35:54.648123Z",
     "shell.execute_reply.started": "2023-04-16T16:35:54.637269Z"
    }
   },
   "outputs": [],
   "source": [
    "train_df"
   ]
  },
  {
   "cell_type": "code",
   "execution_count": null,
   "metadata": {
    "execution": {
     "iopub.execute_input": "2023-04-16T16:35:55.246898Z",
     "iopub.status.busy": "2023-04-16T16:35:55.245613Z",
     "iopub.status.idle": "2023-04-16T16:35:55.260429Z",
     "shell.execute_reply": "2023-04-16T16:35:55.259158Z",
     "shell.execute_reply.started": "2023-04-16T16:35:55.246854Z"
    }
   },
   "outputs": [],
   "source": [
    "test_df"
   ]
  },
  {
   "cell_type": "markdown",
   "metadata": {},
   "source": [
    "# Image Data Loading"
   ]
  },
  {
   "cell_type": "markdown",
   "metadata": {},
   "source": []
  },
  {
   "cell_type": "code",
   "execution_count": null,
   "metadata": {
    "execution": {
     "iopub.execute_input": "2023-04-16T16:35:57.555015Z",
     "iopub.status.busy": "2023-04-16T16:35:57.554524Z",
     "iopub.status.idle": "2023-04-16T16:35:57.567241Z",
     "shell.execute_reply": "2023-04-16T16:35:57.566187Z",
     "shell.execute_reply.started": "2023-04-16T16:35:57.554959Z"
    }
   },
   "outputs": [],
   "source": [
    "train_gen = tf.keras.preprocessing.image.ImageDataGenerator(\n",
    "    rescale=1./255,shear_range = 0.2,\n",
    "                                   zoom_range = 0.05,\n",
    "                                   horizontal_flip = True,\n",
    "                                   vertical_flip   = True,\n",
    "    validation_split=0.1\n",
    ")\n",
    "\n",
    "test_gen = tf.keras.preprocessing.image.ImageDataGenerator(\n",
    "    rescale=1./255\n",
    ")"
   ]
  },
  {
   "cell_type": "code",
   "execution_count": null,
   "metadata": {
    "execution": {
     "iopub.execute_input": "2023-04-16T16:35:59.383699Z",
     "iopub.status.busy": "2023-04-16T16:35:59.382942Z",
     "iopub.status.idle": "2023-04-16T16:36:32.330618Z",
     "shell.execute_reply": "2023-04-16T16:36:32.329620Z",
     "shell.execute_reply.started": "2023-04-16T16:35:59.383658Z"
    }
   },
   "outputs": [],
   "source": [
    "train_data = train_gen.flow_from_dataframe(\n",
    "    train_df,\n",
    "x_col='Filepath',\n",
    "    y_col='Label',\n",
    "    target_size=(256,256),\n",
    "    color_mode='rgb',\n",
    "    class_mode='binary',\n",
    "    batch_size=32,\n",
    "    shuffle=False,\n",
    "    seed=42,\n",
    "    subset='training')\n",
    "\n",
    "val_data= train_gen.flow_from_dataframe(\n",
    "    train_df,\n",
    "x_col='Filepath',\n",
    "    y_col='Label',\n",
    "    target_size=(256,256),\n",
    "    color_mode='rgb',\n",
    "    class_mode='binary',\n",
    "    batch_size=32,\n",
    "    shuffle=False,\n",
    "    seed=42,\n",
    "    subset='validation'\n",
    ")\n",
    "\n",
    "\n",
    "test_data = train_gen.flow_from_dataframe(\n",
    "    test_df,\n",
    "    x_col='Filepath',\n",
    "    y_col='Label',\n",
    "    target_size=(256,256),\n",
    "    color_mode='rgb',\n",
    "    class_mode='binary',\n",
    "    batch_size=32,\n",
    "    shuffle=False,\n",
    "    seed=42\n",
    ")"
   ]
  },
  {
   "cell_type": "markdown",
   "metadata": {},
   "source": [
    "# LOADING MODEL (InceptionResNetV2)"
   ]
  },
  {
   "cell_type": "code",
   "execution_count": null,
   "metadata": {
    "execution": {
     "iopub.execute_input": "2023-04-16T16:49:22.076309Z",
     "iopub.status.busy": "2023-04-16T16:49:22.075812Z",
     "iopub.status.idle": "2023-04-16T16:50:24.707554Z",
     "shell.execute_reply": "2023-04-16T16:50:24.706682Z",
     "shell.execute_reply.started": "2023-04-16T16:49:22.076269Z"
    }
   },
   "outputs": [],
   "source": [
    "# Import the InceptionV3 library as shown below and add preprocessing layer to the front of InceptionV3\n",
    "# Here we will be using imagenet weights\n",
    "IMAGE_SIZE= [256, 256]\n",
    "\n",
    "inception = tf.keras.applications.InceptionResNetV2(input_shape=IMAGE_SIZE + [3], weights='imagenet', include_top=False)\n",
    "\n",
    "# don't train existing weights\n",
    "for layer in inception.layers:\n",
    "    layer.trainable = False\n",
    "\n",
    "inception.trainable = True\n",
    "\n",
    "set_trainable = False\n",
    "\n",
    "for layer in inception.layers:\n",
    "    if layer.name == 'conv2d_90':\n",
    "        set_trainable = True\n",
    "    if set_trainable:\n",
    "        layer.trainable = True\n",
    "    else:\n",
    "        layer.trainable = False\n",
    "        \n",
    "# our layers - you can add more if you want\n",
    "\n",
    "x = Flatten()(inception.output)\n",
    "\n",
    "outputs = tf.keras.layers.Dense(1, activation='sigmoid')(x)\n",
    "\n",
    "model = tf.keras.Model(inception.inputs, outputs)\n",
    "\n",
    "model.compile(\n",
    "    optimizer='adam',\n",
    "    loss='binary_crossentropy',\n",
    "    metrics=['accuracy']\n",
    ")\n",
    "\n",
    "print(model.summary())"
   ]
  },
  {
   "cell_type": "markdown",
   "metadata": {},
   "source": [
    "# Training data"
   ]
  },
  {
   "cell_type": "code",
   "execution_count": null,
   "metadata": {
    "execution": {
     "iopub.execute_input": "2023-04-16T16:50:24.709780Z",
     "iopub.status.busy": "2023-04-16T16:50:24.709245Z",
     "iopub.status.idle": "2023-04-16T17:05:55.621462Z",
     "shell.execute_reply": "2023-04-16T17:05:55.620366Z",
     "shell.execute_reply.started": "2023-04-16T16:50:24.709749Z"
    }
   },
   "outputs": [],
   "source": [
    "history = model.fit(\n",
    "    train_data,\n",
    "    validation_data=val_data,\n",
    "    epochs=10,\n",
    "    callbacks=[\n",
    "        tf.keras.callbacks.EarlyStopping(\n",
    "            monitor='val_loss',\n",
    "            patience=3,\n",
    "            restore_best_weights=True\n",
    "        )\n",
    "    ]\n",
    ")"
   ]
  },
  {
   "cell_type": "markdown",
   "metadata": {},
   "source": [
    "# Graph plotting"
   ]
  },
  {
   "cell_type": "code",
   "execution_count": null,
   "metadata": {
    "execution": {
     "iopub.execute_input": "2023-04-16T17:10:12.875765Z",
     "iopub.status.busy": "2023-04-16T17:10:12.875069Z",
     "iopub.status.idle": "2023-04-16T17:10:12.939857Z",
     "shell.execute_reply": "2023-04-16T17:10:12.938746Z",
     "shell.execute_reply.started": "2023-04-16T17:10:12.875727Z"
    }
   },
   "outputs": [],
   "source": [
    "fig = px.line(\n",
    "    history.history,\n",
    "    y=['loss', 'val_loss'],\n",
    "    labels={'index': \"Epoch\", 'value': \"Loss\"},\n",
    "    title=\"Training and Validation Loss Over Time\"\n",
    ")\n",
    "\n",
    "fig.show()"
   ]
  },
  {
   "cell_type": "markdown",
   "metadata": {},
   "source": [
    "# Results"
   ]
  },
  {
   "cell_type": "code",
   "execution_count": null,
   "metadata": {
    "execution": {
     "iopub.execute_input": "2023-04-16T17:10:23.286824Z",
     "iopub.status.busy": "2023-04-16T17:10:23.286088Z",
     "iopub.status.idle": "2023-04-16T17:10:23.296486Z",
     "shell.execute_reply": "2023-04-16T17:10:23.295232Z",
     "shell.execute_reply.started": "2023-04-16T17:10:23.286787Z"
    }
   },
   "outputs": [],
   "source": [
    "def evaluate_model(model, test_data):\n",
    "    \n",
    "    results = model.evaluate(test_data, verbose=0)\n",
    "    loss = results[0]\n",
    "    acc = results[1]\n",
    "    \n",
    "    print(\"    Test Loss: {:.5f}\".format(loss))\n",
    "    print(\"Test Accuracy: {:.2f}%\".format(acc * 100))\n",
    "    \n",
    "    y_pred = np.squeeze((model.predict(test_data) >= 0.3931).astype(np.int))\n",
    "    cm = confusion_matrix(test_data.labels, y_pred)\n",
    "    clr = classification_report(test_data.labels, y_pred, target_names=[\"uncracked\", \"cracked\"])\n",
    "    \n",
    "    plt.figure(figsize=(6, 6))\n",
    "    sns.heatmap(cm, annot=True, fmt='g', vmin=0, cmap='Blues', cbar=False)\n",
    "    plt.xticks(ticks=np.arange(2) + 0.5, labels=[\"uncracked\", \"cracked\"])\n",
    "    plt.yticks(ticks=np.arange(2) + 0.5, labels=[\"uncracked\", \"cracked\"])\n",
    "    plt.xlabel(\"Predicted\")\n",
    "    plt.ylabel(\"Actual\")\n",
    "    plt.title(\"Confusion Matrix\")\n",
    "    plt.show()\n",
    "    \n",
    "    print(\"Classification Report:\\n----------------------\\n\", clr)"
   ]
  },
  {
   "cell_type": "code",
   "execution_count": null,
   "metadata": {
    "execution": {
     "iopub.execute_input": "2023-04-16T17:10:26.159590Z",
     "iopub.status.busy": "2023-04-16T17:10:26.159199Z",
     "iopub.status.idle": "2023-04-16T17:11:16.643142Z",
     "shell.execute_reply": "2023-04-16T17:11:16.642017Z",
     "shell.execute_reply.started": "2023-04-16T17:10:26.159556Z"
    }
   },
   "outputs": [],
   "source": [
    "evaluate_model(model, test_data)"
   ]
  },
  {
   "cell_type": "code",
   "execution_count": null,
   "metadata": {
    "execution": {
     "iopub.execute_input": "2023-04-16T17:43:43.622739Z",
     "iopub.status.busy": "2023-04-16T17:43:43.621720Z",
     "iopub.status.idle": "2023-04-16T17:44:10.023268Z",
     "shell.execute_reply": "2023-04-16T17:44:10.022190Z",
     "shell.execute_reply.started": "2023-04-16T17:43:43.622699Z"
    }
   },
   "outputs": [],
   "source": [
    "#ROC\n",
    "\n",
    "y_preds = model.predict(test_data).ravel()\n",
    "#y_pred = np.squeeze((model.predict(test_data) >= 0.3931).astype(np.int))\n",
    "fpr, tpr, thresholds = roc_curve(test_data.labels, y_preds)\n",
    "plt.figure(1)\n",
    "plt.plot([0, 1], [0, 1], 'y--')\n",
    "plt.plot(fpr, tpr, marker='.')\n",
    "plt.xlabel('False positive rate')\n",
    "plt.ylabel('True positive rate')\n",
    "plt.title('ROC curve')\n",
    "plt.show()"
   ]
  },
  {
   "cell_type": "code",
   "execution_count": null,
   "metadata": {
    "execution": {
     "iopub.execute_input": "2023-04-16T17:53:20.067522Z",
     "iopub.status.busy": "2023-04-16T17:53:20.066349Z",
     "iopub.status.idle": "2023-04-16T17:53:20.079472Z",
     "shell.execute_reply": "2023-04-16T17:53:20.078091Z",
     "shell.execute_reply.started": "2023-04-16T17:53:20.067476Z"
    }
   },
   "outputs": [],
   "source": [
    "from sklearn.metrics import auc\n",
    "i = np.arange(len(tpr)) \n",
    "roc = pd.DataFrame({'tf' : pd.Series(tpr-(1-fpr), index=i), 'thresholds' : pd.Series(thresholds, index=i)})\n",
    "ideal_roc_thresh = roc.iloc[(roc.tf-0).abs().argsort()[:1]]  #Locate the point where the value is close to 0\n",
    "print(\"Ideal threshold is: \", ideal_roc_thresh['thresholds']) \n",
    "auc_value = auc(fpr, tpr)\n",
    "print(\"Area under curve, AUC = \", auc_value)\n"
   ]
  },
  {
   "cell_type": "markdown",
   "metadata": {},
   "source": [
    "# Predictions"
   ]
  },
  {
   "cell_type": "code",
   "execution_count": null,
   "metadata": {
    "execution": {
     "iopub.execute_input": "2023-04-16T17:06:59.318409Z",
     "iopub.status.busy": "2023-04-16T17:06:59.317401Z",
     "iopub.status.idle": "2023-04-16T17:06:59.323322Z",
     "shell.execute_reply": "2023-04-16T17:06:59.322200Z",
     "shell.execute_reply.started": "2023-04-16T17:06:59.318369Z"
    }
   },
   "outputs": [],
   "source": [
    "test_path = '/kaggle/input/crack-detection-image-classification-2023/test'"
   ]
  },
  {
   "cell_type": "code",
   "execution_count": null,
   "metadata": {
    "execution": {
     "iopub.execute_input": "2023-04-16T17:31:10.306646Z",
     "iopub.status.busy": "2023-04-16T17:31:10.306271Z",
     "iopub.status.idle": "2023-04-16T17:31:10.314006Z",
     "shell.execute_reply": "2023-04-16T17:31:10.312692Z",
     "shell.execute_reply.started": "2023-04-16T17:31:10.306612Z"
    }
   },
   "outputs": [],
   "source": [
    "test_filenames = os.listdir(test_path)"
   ]
  },
  {
   "cell_type": "code",
   "execution_count": null,
   "metadata": {
    "execution": {
     "iopub.execute_input": "2023-04-16T17:31:56.087637Z",
     "iopub.status.busy": "2023-04-16T17:31:56.087220Z",
     "iopub.status.idle": "2023-04-16T17:31:56.095520Z",
     "shell.execute_reply": "2023-04-16T17:31:56.094424Z",
     "shell.execute_reply.started": "2023-04-16T17:31:56.087601Z"
    }
   },
   "outputs": [],
   "source": [
    "a = train_data.class_indices\n",
    "class_names = list(a.keys())"
   ]
  },
  {
   "cell_type": "code",
   "execution_count": null,
   "metadata": {
    "execution": {
     "iopub.execute_input": "2023-04-16T17:33:19.133235Z",
     "iopub.status.busy": "2023-04-16T17:33:19.132043Z",
     "iopub.status.idle": "2023-04-16T17:38:14.509392Z",
     "shell.execute_reply": "2023-04-16T17:38:14.508376Z",
     "shell.execute_reply.started": "2023-04-16T17:33:19.133183Z"
    },
    "scrolled": true
   },
   "outputs": [],
   "source": [
    "test_predictions = np.array([])\n",
    "\n",
    "for img in os.listdir(test_path):\n",
    "    image_path = os.path.join(test_path,img)\n",
    "    image = tf.keras.utils.load_img(image_path, target_size = (256,256))\n",
    "    image = tf.keras.utils.img_to_array(image)\n",
    "    image = np.array([image])\n",
    "    image = image/255\n",
    "    y_pred = model.predict(image)\n",
    "    y_pred_label = np.squeeze((y_pred >= 0.5861).astype(int))\n",
    "    test_predictions = np.append(test_predictions, class_names[y_pred_label])\n",
    "#     break\n",
    "# print(test_predictions[0])\n"
   ]
  },
  {
   "cell_type": "markdown",
   "metadata": {},
   "source": [
    "# Output file"
   ]
  },
  {
   "cell_type": "code",
   "execution_count": null,
   "metadata": {
    "execution": {
     "iopub.execute_input": "2023-04-16T17:38:24.407688Z",
     "iopub.status.busy": "2023-04-16T17:38:24.406570Z",
     "iopub.status.idle": "2023-04-16T17:38:24.419825Z",
     "shell.execute_reply": "2023-04-16T17:38:24.418783Z",
     "shell.execute_reply.started": "2023-04-16T17:38:24.407632Z"
    }
   },
   "outputs": [],
   "source": [
    "\n",
    "# Create a DataFrame with the filename and predicted values\n",
    "results_df = pd.DataFrame({\n",
    "    \"filename\": test_filenames,\n",
    "    \"class\": test_predictions\n",
    "})\n",
    "\n",
    "# Save the DataFrame to a CSV file\n",
    "results_df.to_csv(\"submission.csv\", index=False)"
   ]
  },
  {
   "cell_type": "code",
   "execution_count": null,
   "metadata": {},
   "outputs": [],
   "source": []
  }
 ],
 "metadata": {
  "kernelspec": {
   "display_name": "Python 3 (ipykernel)",
   "language": "python",
   "name": "python3"
  },
  "language_info": {
   "codemirror_mode": {
    "name": "ipython",
    "version": 3
   },
   "file_extension": ".py",
   "mimetype": "text/x-python",
   "name": "python",
   "nbconvert_exporter": "python",
   "pygments_lexer": "ipython3",
   "version": "3.9.13"
  }
 },
 "nbformat": 4,
 "nbformat_minor": 4
}
